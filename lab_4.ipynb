{
 "cells": [
  {
   "cell_type": "code",
   "execution_count": 11,
   "metadata": {},
   "outputs": [],
   "source": [
    "# Write a python program to find three numbers from an array such that the sum of three\n",
    "# number equal to zero.\n",
    "'''\n",
    "    Input: [-1, 0, 1, 2, -1, -4]\n",
    "    Output: [[-1. -1, 2], [-1, 0, 1]]\n",
    "'''\n",
    "\n",
    "from itertools import combinations\n",
    "\n",
    "def get_zero(input_list: list) -> list:\n",
    "    combo = combinations(input_list, 3)\n",
    "    output = []\n",
    "    for i in combo:\n",
    "        if sum(i) == 0:\n",
    "            output.append(sorted(list(i)))\n",
    "\n",
    "    return output"
   ]
  },
  {
   "cell_type": "code",
   "execution_count": 12,
   "metadata": {},
   "outputs": [
    {
     "data": {
      "text/plain": [
       "[[-1, 0, 1], [-1, -1, 2], [-1, 0, 1]]"
      ]
     },
     "execution_count": 12,
     "metadata": {},
     "output_type": "execute_result"
    }
   ],
   "source": [
    "get_zero([-1, 0, 1, 2, -1, -4])"
   ]
  },
  {
   "cell_type": "code",
   "execution_count": 7,
   "metadata": {},
   "outputs": [],
   "source": [
    "'''\n",
    "Write a python program to find the single element in a list where every element \n",
    "appears three times except for one. \n",
    "Input: [5, 3, 4, 3, 5, 5, 3]\n",
    "Ouput: 4\n",
    "'''\n",
    "\n",
    "def unique_element(input_list: list) -> None:\n",
    "    set_list = set(input_list)\n",
    "    for i in set_list:\n",
    "        if input_list.count(i) == 1:\n",
    "            print(i)\n",
    "\n",
    "    "
   ]
  },
  {
   "cell_type": "code",
   "execution_count": 8,
   "metadata": {},
   "outputs": [
    {
     "name": "stdout",
     "output_type": "stream",
     "text": [
      "4\n"
     ]
    }
   ],
   "source": [
    "unique_element([5, 3, 4, 3, 5, 5, 3])"
   ]
  },
  {
   "cell_type": "code",
   "execution_count": null,
   "metadata": {},
   "outputs": [],
   "source": []
  }
 ],
 "metadata": {
  "kernelspec": {
   "display_name": "ASLENV",
   "language": "python",
   "name": "python3"
  },
  "language_info": {
   "codemirror_mode": {
    "name": "ipython",
    "version": 3
   },
   "file_extension": ".py",
   "mimetype": "text/x-python",
   "name": "python",
   "nbconvert_exporter": "python",
   "pygments_lexer": "ipython3",
   "version": "3.8.13"
  },
  "orig_nbformat": 4,
  "vscode": {
   "interpreter": {
    "hash": "336a2ab06d8fcbb7fda41b97d3fa3c5b2f74519a8b7c969e05569148291ce6e3"
   }
  }
 },
 "nbformat": 4,
 "nbformat_minor": 2
}
