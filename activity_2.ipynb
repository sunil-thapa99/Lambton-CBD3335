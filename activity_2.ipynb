{
 "cells": [
  {
   "cell_type": "code",
   "execution_count": 1,
   "metadata": {},
   "outputs": [],
   "source": [
    "import nltk\n",
    "import re\n",
    "from nltk.stem import PorterStemmer, WordNetLemmatizer\n",
    "from nltk.tokenize import word_tokenize, sent_tokenize\n",
    "from nltk.corpus import stopwords"
   ]
  },
  {
   "cell_type": "code",
   "execution_count": 14,
   "metadata": {},
   "outputs": [],
   "source": [
    "text = \"    Clustering is a Machine Learning technique that involves the grouping of data points. Given a set of data points, we can use a clustering algorithm to classify each data point into a specific group. In theory, data points that are in the same group should have similar properties and/or features, while data points in ? different groups should have highly dissimilar properties and/or features. Clustering is a method of unsupervised learning and is a common technique for statistical data analysis used in many fields.? In Data Science,     we can use clustering analysis to gain / some valuable insights from our data by seeing what groups the data points fall into when we apply a clustering algorithm. Today, we’re going to look at 5 popular clustering algorithms that data scientists need to know and their pros and cons   !   \""
   ]
  },
  {
   "cell_type": "code",
   "execution_count": 15,
   "metadata": {},
   "outputs": [],
   "source": [
    "text = text.strip()"
   ]
  },
  {
   "cell_type": "code",
   "execution_count": 16,
   "metadata": {},
   "outputs": [
    {
     "data": {
      "text/plain": [
       "'Clustering is a Machine Learning technique that involves the grouping of data points. Given a set of data points, we can use a clustering algorithm to classify each data point into a specific group. In theory, data points that are in the same group should have similar properties and/or features, while data points in ? different groups should have highly dissimilar properties and/or features. Clustering is a method of unsupervised learning and is a common technique for statistical data analysis used in many fields.? In Data Science,     we can use clustering analysis to gain / some valuable insights from our data by seeing what groups the data points fall into when we apply a clustering algorithm. Today, we’re going to look at 5 popular clustering algorithms that data scientists need to know and their pros and cons   !'"
      ]
     },
     "execution_count": 16,
     "metadata": {},
     "output_type": "execute_result"
    }
   ],
   "source": [
    "text"
   ]
  },
  {
   "cell_type": "code",
   "execution_count": 17,
   "metadata": {},
   "outputs": [],
   "source": [
    "text = re.sub('\\s+',' ',text)"
   ]
  },
  {
   "cell_type": "code",
   "execution_count": 18,
   "metadata": {},
   "outputs": [
    {
     "data": {
      "text/plain": [
       "'Clustering is a Machine Learning technique that involves the grouping of data points. Given a set of data points, we can use a clustering algorithm to classify each data point into a specific group. In theory, data points that are in the same group should have similar properties and/or features, while data points in ? different groups should have highly dissimilar properties and/or features. Clustering is a method of unsupervised learning and is a common technique for statistical data analysis used in many fields.? In Data Science, we can use clustering analysis to gain / some valuable insights from our data by seeing what groups the data points fall into when we apply a clustering algorithm. Today, we’re going to look at 5 popular clustering algorithms that data scientists need to know and their pros and cons !'"
      ]
     },
     "execution_count": 18,
     "metadata": {},
     "output_type": "execute_result"
    }
   ],
   "source": [
    "text"
   ]
  },
  {
   "cell_type": "code",
   "execution_count": 21,
   "metadata": {},
   "outputs": [
    {
     "data": {
      "text/plain": [
       "'Clustering is a Machine Learning technique that involves the grouping of data points Given a set of data points, we can use a clustering algorithm to classify each data point into a specific group In theory, data points that are in the same group should have similar properties and/or features, while data points in ? different groups should have highly dissimilar properties and/or features Clustering is a method of unsupervised learning and is a common technique for statistical data analysis used in many fields? In Data Science, we can use clustering analysis to gain / some valuable insights from our data by seeing what groups the data points fall into when we apply a clustering algorithm Today, we’re going to look at 5 popular clustering algorithms that data scientists need to know and their pros and cons !'"
      ]
     },
     "execution_count": 21,
     "metadata": {},
     "output_type": "execute_result"
    }
   ],
   "source": [
    "remove_periods = text.replace('.', '')\n",
    "remove_periods"
   ]
  },
  {
   "cell_type": "code",
   "execution_count": 24,
   "metadata": {},
   "outputs": [
    {
     "data": {
      "text/plain": [
       "'Clustering is a machine learning technique that involves the grouping of data points given a set of data points, we can use a clustering algorithm to classify each data point into a specific group in theory, data points that are in the same group should have similar properties and/or features, while data points in ? different groups should have highly dissimilar properties and/or features clustering is a method of unsupervised learning and is a common technique for statistical data analysis used in many fields? in data science, we can use clustering analysis to gain / some valuable insights from our data by seeing what groups the data points fall into when we apply a clustering algorithm today, we’re going to look at 5 popular clustering algorithms that data scientists need to know and their pros and cons !'"
      ]
     },
     "execution_count": 24,
     "metadata": {},
     "output_type": "execute_result"
    }
   ],
   "source": [
    "remove_periods.capitalize()"
   ]
  },
  {
   "cell_type": "code",
   "execution_count": 25,
   "metadata": {},
   "outputs": [],
   "source": [
    "regex_replace_X = re.sub(r\"[a-zA-Z]\", \"X\", remove_periods)"
   ]
  },
  {
   "cell_type": "code",
   "execution_count": 26,
   "metadata": {},
   "outputs": [
    {
     "data": {
      "text/plain": [
       "'XXXXXXXXXX XX X XXXXXXX XXXXXXXX XXXXXXXXX XXXX XXXXXXXX XXX XXXXXXXX XX XXXX XXXXXX XXXXX X XXX XX XXXX XXXXXX, XX XXX XXX X XXXXXXXXXX XXXXXXXXX XX XXXXXXXX XXXX XXXX XXXXX XXXX X XXXXXXXX XXXXX XX XXXXXX, XXXX XXXXXX XXXX XXX XX XXX XXXX XXXXX XXXXXX XXXX XXXXXXX XXXXXXXXXX XXX/XX XXXXXXXX, XXXXX XXXX XXXXXX XX ? XXXXXXXXX XXXXXX XXXXXX XXXX XXXXXX XXXXXXXXXX XXXXXXXXXX XXX/XX XXXXXXXX XXXXXXXXXX XX X XXXXXX XX XXXXXXXXXXXX XXXXXXXX XXX XX X XXXXXX XXXXXXXXX XXX XXXXXXXXXXX XXXX XXXXXXXX XXXX XX XXXX XXXXXX? XX XXXX XXXXXXX, XX XXX XXX XXXXXXXXXX XXXXXXXX XX XXXX / XXXX XXXXXXXX XXXXXXXX XXXX XXX XXXX XX XXXXXX XXXX XXXXXX XXX XXXX XXXXXX XXXX XXXX XXXX XX XXXXX X XXXXXXXXXX XXXXXXXXX XXXXX, XX’XX XXXXX XX XXXX XX 5 XXXXXXX XXXXXXXXXX XXXXXXXXXX XXXX XXXX XXXXXXXXXX XXXX XX XXXX XXX XXXXX XXXX XXX XXXX !'"
      ]
     },
     "execution_count": 26,
     "metadata": {},
     "output_type": "execute_result"
    }
   ],
   "source": [
    "regex_replace_X"
   ]
  },
  {
   "cell_type": "code",
   "execution_count": 28,
   "metadata": {},
   "outputs": [
    {
     "data": {
      "text/plain": [
       "'Clustering is a Machine Learning technique that involves the grouping of data points Given a set of data points we can use a clustering algorithm to classify each data point into a specific group In theory data points that are in the same group should have similar properties andor features while data points in  different groups should have highly dissimilar properties andor features Clustering is a method of unsupervised learning and is a common technique for statistical data analysis used in many fields In Data Science we can use clustering analysis to gain  some valuable insights from our data by seeing what groups the data points fall into when we apply a clustering algorithm Today were going to look at 5 popular clustering algorithms that data scientists need to know and their pros and cons '"
      ]
     },
     "execution_count": 28,
     "metadata": {},
     "output_type": "execute_result"
    }
   ],
   "source": [
    "remove_punctuation = re.sub(r'[^\\w\\s]', '', remove_periods)\n",
    "remove_punctuation"
   ]
  },
  {
   "cell_type": "code",
   "execution_count": 29,
   "metadata": {},
   "outputs": [
    {
     "data": {
      "text/plain": [
       "['i', 'me', 'my', 'myself', 'we', 'our', 'ours', 'ourselves', 'you', \"you're\"]"
      ]
     },
     "execution_count": 29,
     "metadata": {},
     "output_type": "execute_result"
    }
   ],
   "source": [
    "stopwords = stopwords.words('english')\n",
    "stopwords[:10]"
   ]
  },
  {
   "cell_type": "code",
   "execution_count": 30,
   "metadata": {},
   "outputs": [
    {
     "data": {
      "text/plain": [
       "['Clustering',\n",
       " 'is',\n",
       " 'a',\n",
       " 'Machine',\n",
       " 'Learning',\n",
       " 'technique',\n",
       " 'that',\n",
       " 'involves',\n",
       " 'the',\n",
       " 'grouping',\n",
       " 'of',\n",
       " 'data',\n",
       " 'points',\n",
       " 'Given',\n",
       " 'a',\n",
       " 'set',\n",
       " 'of',\n",
       " 'data',\n",
       " 'points',\n",
       " 'we',\n",
       " 'can',\n",
       " 'use',\n",
       " 'a',\n",
       " 'clustering',\n",
       " 'algorithm',\n",
       " 'to',\n",
       " 'classify',\n",
       " 'each',\n",
       " 'data',\n",
       " 'point',\n",
       " 'into',\n",
       " 'a',\n",
       " 'specific',\n",
       " 'group',\n",
       " 'In',\n",
       " 'theory',\n",
       " 'data',\n",
       " 'points',\n",
       " 'that',\n",
       " 'are',\n",
       " 'in',\n",
       " 'the',\n",
       " 'same',\n",
       " 'group',\n",
       " 'should',\n",
       " 'have',\n",
       " 'similar',\n",
       " 'properties',\n",
       " 'andor',\n",
       " 'features',\n",
       " 'while',\n",
       " 'data',\n",
       " 'points',\n",
       " 'in',\n",
       " 'different',\n",
       " 'groups',\n",
       " 'should',\n",
       " 'have',\n",
       " 'highly',\n",
       " 'dissimilar',\n",
       " 'properties',\n",
       " 'andor',\n",
       " 'features',\n",
       " 'Clustering',\n",
       " 'is',\n",
       " 'a',\n",
       " 'method',\n",
       " 'of',\n",
       " 'unsupervised',\n",
       " 'learning',\n",
       " 'and',\n",
       " 'is',\n",
       " 'a',\n",
       " 'common',\n",
       " 'technique',\n",
       " 'for',\n",
       " 'statistical',\n",
       " 'data',\n",
       " 'analysis',\n",
       " 'used',\n",
       " 'in',\n",
       " 'many',\n",
       " 'fields',\n",
       " 'In',\n",
       " 'Data',\n",
       " 'Science',\n",
       " 'we',\n",
       " 'can',\n",
       " 'use',\n",
       " 'clustering',\n",
       " 'analysis',\n",
       " 'to',\n",
       " 'gain',\n",
       " 'some',\n",
       " 'valuable',\n",
       " 'insights',\n",
       " 'from',\n",
       " 'our',\n",
       " 'data',\n",
       " 'by',\n",
       " 'seeing',\n",
       " 'what',\n",
       " 'groups',\n",
       " 'the',\n",
       " 'data',\n",
       " 'points',\n",
       " 'fall',\n",
       " 'into',\n",
       " 'when',\n",
       " 'we',\n",
       " 'apply',\n",
       " 'a',\n",
       " 'clustering',\n",
       " 'algorithm',\n",
       " 'Today',\n",
       " 'were',\n",
       " 'going',\n",
       " 'to',\n",
       " 'look',\n",
       " 'at',\n",
       " '5',\n",
       " 'popular',\n",
       " 'clustering',\n",
       " 'algorithms',\n",
       " 'that',\n",
       " 'data',\n",
       " 'scientists',\n",
       " 'need',\n",
       " 'to',\n",
       " 'know',\n",
       " 'and',\n",
       " 'their',\n",
       " 'pros',\n",
       " 'and',\n",
       " 'cons']"
      ]
     },
     "execution_count": 30,
     "metadata": {},
     "output_type": "execute_result"
    }
   ],
   "source": [
    "tokenized_word = word_tokenize(remove_punctuation)\n",
    "tokenized_word"
   ]
  },
  {
   "cell_type": "code",
   "execution_count": 32,
   "metadata": {},
   "outputs": [
    {
     "data": {
      "text/plain": [
       "['Clustering',\n",
       " 'Machine',\n",
       " 'Learning',\n",
       " 'technique',\n",
       " 'involves',\n",
       " 'grouping',\n",
       " 'data',\n",
       " 'points',\n",
       " 'Given',\n",
       " 'set',\n",
       " 'data',\n",
       " 'points',\n",
       " 'use',\n",
       " 'clustering',\n",
       " 'algorithm',\n",
       " 'classify',\n",
       " 'data',\n",
       " 'point',\n",
       " 'specific',\n",
       " 'group',\n",
       " 'In',\n",
       " 'theory',\n",
       " 'data',\n",
       " 'points',\n",
       " 'group',\n",
       " 'similar',\n",
       " 'properties',\n",
       " 'andor',\n",
       " 'features',\n",
       " 'data',\n",
       " 'points',\n",
       " 'different',\n",
       " 'groups',\n",
       " 'highly',\n",
       " 'dissimilar',\n",
       " 'properties',\n",
       " 'andor',\n",
       " 'features',\n",
       " 'Clustering',\n",
       " 'method',\n",
       " 'unsupervised',\n",
       " 'learning',\n",
       " 'common',\n",
       " 'technique',\n",
       " 'statistical',\n",
       " 'data',\n",
       " 'analysis',\n",
       " 'used',\n",
       " 'many',\n",
       " 'fields',\n",
       " 'In',\n",
       " 'Data',\n",
       " 'Science',\n",
       " 'use',\n",
       " 'clustering',\n",
       " 'analysis',\n",
       " 'gain',\n",
       " 'valuable',\n",
       " 'insights',\n",
       " 'data',\n",
       " 'seeing',\n",
       " 'groups',\n",
       " 'data',\n",
       " 'points',\n",
       " 'fall',\n",
       " 'apply',\n",
       " 'clustering',\n",
       " 'algorithm',\n",
       " 'Today',\n",
       " 'going',\n",
       " 'look',\n",
       " '5',\n",
       " 'popular',\n",
       " 'clustering',\n",
       " 'algorithms',\n",
       " 'data',\n",
       " 'scientists',\n",
       " 'need',\n",
       " 'know',\n",
       " 'pros',\n",
       " 'cons']"
      ]
     },
     "execution_count": 32,
     "metadata": {},
     "output_type": "execute_result"
    }
   ],
   "source": [
    "text_without_stop_word = []\n",
    "for i in tokenized_word:\n",
    "    if i not in stopwords:\n",
    "        text_without_stop_word.append(i)\n",
    "\n",
    "text_without_stop_word"
   ]
  },
  {
   "cell_type": "code",
   "execution_count": 35,
   "metadata": {},
   "outputs": [
    {
     "data": {
      "text/plain": [
       "['Clustering is a Machine Learning technique that involves the grouping of data points.',\n",
       " 'Given a set of data points, we can use a clustering algorithm to classify each data point into a specific group.',\n",
       " 'In theory, data points that are in the same group should have similar properties and/or features, while data points in ?',\n",
       " 'different groups should have highly dissimilar properties and/or features.',\n",
       " 'Clustering is a method of unsupervised learning and is a common technique for statistical data analysis used in many fields.?',\n",
       " 'In Data Science, we can use clustering analysis to gain / some valuable insights from our data by seeing what groups the data points fall into when we apply a clustering algorithm.',\n",
       " 'Today, we’re going to look at 5 popular clustering algorithms that data scientists need to know and their pros and cons !']"
      ]
     },
     "execution_count": 35,
     "metadata": {},
     "output_type": "execute_result"
    }
   ],
   "source": [
    "tokenized_sent = sent_tokenize(text)\n",
    "tokenized_sent"
   ]
  },
  {
   "cell_type": "code",
   "execution_count": 36,
   "metadata": {},
   "outputs": [
    {
     "data": {
      "text/plain": [
       "['Clustering is a Machine Learning technique that involves the grouping of data points',\n",
       " ' Given a set of data points, we can use a clustering algorithm to classify each data point into a specific group',\n",
       " ' In theory, data points that are in the same group should have similar properties and/or features, while data points in ? different groups should have highly dissimilar properties and/or features',\n",
       " ' Clustering is a method of unsupervised learning and is a common technique for statistical data analysis used in many fields',\n",
       " '? In Data Science, we can use clustering analysis to gain / some valuable insights from our data by seeing what groups the data points fall into when we apply a clustering algorithm',\n",
       " ' Today, we’re going to look at 5 popular clustering algorithms that data scientists need to know and their pros and cons !']"
      ]
     },
     "execution_count": 36,
     "metadata": {},
     "output_type": "execute_result"
    }
   ],
   "source": [
    "split_word = text.split('.')\n",
    "split_word"
   ]
  },
  {
   "cell_type": "code",
   "execution_count": 38,
   "metadata": {},
   "outputs": [
    {
     "name": "stdout",
     "output_type": "stream",
     "text": [
      "Word: Clustering, stem: cluster\n",
      "Word: Machine, stem: machin\n",
      "Word: Learning, stem: learn\n",
      "Word: technique, stem: techniqu\n",
      "Word: involves, stem: involv\n",
      "Word: grouping, stem: group\n",
      "Word: data, stem: data\n",
      "Word: points, stem: point\n",
      "Word: Given, stem: given\n",
      "Word: set, stem: set\n",
      "Word: data, stem: data\n",
      "Word: points, stem: point\n",
      "Word: use, stem: use\n",
      "Word: clustering, stem: cluster\n",
      "Word: algorithm, stem: algorithm\n",
      "Word: classify, stem: classifi\n",
      "Word: data, stem: data\n",
      "Word: point, stem: point\n",
      "Word: specific, stem: specif\n",
      "Word: group, stem: group\n",
      "Word: In, stem: in\n",
      "Word: theory, stem: theori\n",
      "Word: data, stem: data\n",
      "Word: points, stem: point\n",
      "Word: group, stem: group\n",
      "Word: similar, stem: similar\n",
      "Word: properties, stem: properti\n",
      "Word: andor, stem: andor\n",
      "Word: features, stem: featur\n",
      "Word: data, stem: data\n",
      "Word: points, stem: point\n",
      "Word: different, stem: differ\n",
      "Word: groups, stem: group\n",
      "Word: highly, stem: highli\n",
      "Word: dissimilar, stem: dissimilar\n",
      "Word: properties, stem: properti\n",
      "Word: andor, stem: andor\n",
      "Word: features, stem: featur\n",
      "Word: Clustering, stem: cluster\n",
      "Word: method, stem: method\n",
      "Word: unsupervised, stem: unsupervis\n",
      "Word: learning, stem: learn\n",
      "Word: common, stem: common\n",
      "Word: technique, stem: techniqu\n",
      "Word: statistical, stem: statist\n",
      "Word: data, stem: data\n",
      "Word: analysis, stem: analysi\n",
      "Word: used, stem: use\n",
      "Word: many, stem: mani\n",
      "Word: fields, stem: field\n",
      "Word: In, stem: in\n",
      "Word: Data, stem: data\n",
      "Word: Science, stem: scienc\n",
      "Word: use, stem: use\n",
      "Word: clustering, stem: cluster\n",
      "Word: analysis, stem: analysi\n",
      "Word: gain, stem: gain\n",
      "Word: valuable, stem: valuabl\n",
      "Word: insights, stem: insight\n",
      "Word: data, stem: data\n",
      "Word: seeing, stem: see\n",
      "Word: groups, stem: group\n",
      "Word: data, stem: data\n",
      "Word: points, stem: point\n",
      "Word: fall, stem: fall\n",
      "Word: apply, stem: appli\n",
      "Word: clustering, stem: cluster\n",
      "Word: algorithm, stem: algorithm\n",
      "Word: Today, stem: today\n",
      "Word: going, stem: go\n",
      "Word: look, stem: look\n",
      "Word: 5, stem: 5\n",
      "Word: popular, stem: popular\n",
      "Word: clustering, stem: cluster\n",
      "Word: algorithms, stem: algorithm\n",
      "Word: data, stem: data\n",
      "Word: scientists, stem: scientist\n",
      "Word: need, stem: need\n",
      "Word: know, stem: know\n",
      "Word: pros, stem: pro\n",
      "Word: cons, stem: con\n"
     ]
    }
   ],
   "source": [
    "porter = PorterStemmer()\n",
    "for t in text_without_stop_word:\n",
    "    print(f'Word: {t}, stem: {porter.stem(t)}')"
   ]
  },
  {
   "cell_type": "code",
   "execution_count": 39,
   "metadata": {},
   "outputs": [],
   "source": [
    "lem = WordNetLemmatizer()"
   ]
  },
  {
   "cell_type": "code",
   "execution_count": 71,
   "metadata": {},
   "outputs": [
    {
     "name": "stdout",
     "output_type": "stream",
     "text": [
      "run work cluster cry happy scary loudly decisively act quitely\n"
     ]
    }
   ],
   "source": [
    "print(\n",
    "    lem.lemmatize('ran', pos='v'),\n",
    "    lem.lemmatize('working', pos='v'),\n",
    "    lem.lemmatize('clustering', pos='v'),\n",
    "    lem.lemmatize('cry', pos='n'),\n",
    "    lem.lemmatize('happiest', pos='a'),\n",
    "    lem.lemmatize('scariest', pos='a'), # a -> adjective\n",
    "    lem.lemmatize('loudly', pos='r'), # r -> adverbs\n",
    "    lem.lemmatize('decisively', pos='r'),\n",
    "    lem.lemmatize('act', pos='v'),\n",
    "    lem.lemmatize('quitely', pos='r'),\n",
    ")"
   ]
  },
  {
   "cell_type": "code",
   "execution_count": null,
   "metadata": {},
   "outputs": [],
   "source": []
  }
 ],
 "metadata": {
  "kernelspec": {
   "display_name": "base",
   "language": "python",
   "name": "python3"
  },
  "language_info": {
   "codemirror_mode": {
    "name": "ipython",
    "version": 3
   },
   "file_extension": ".py",
   "mimetype": "text/x-python",
   "name": "python",
   "nbconvert_exporter": "python",
   "pygments_lexer": "ipython3",
   "version": "3.9.12"
  },
  "orig_nbformat": 4,
  "vscode": {
   "interpreter": {
    "hash": "47d7a3528df19f6d7d5b443030394cb1b3b5540a28bb20dc453d994d1e3e4878"
   }
  }
 },
 "nbformat": 4,
 "nbformat_minor": 2
}
