{
 "cells": [
  {
   "cell_type": "code",
   "execution_count": 2,
   "metadata": {},
   "outputs": [],
   "source": [
    "import re"
   ]
  },
  {
   "cell_type": "code",
   "execution_count": 41,
   "metadata": {},
   "outputs": [
    {
     "name": "stdout",
     "output_type": "stream",
     "text": [
      "23-10-2002\n",
      "23/10/2002\n",
      "23/10/02\n",
      "10/23/2002\n"
     ]
    }
   ],
   "source": [
    "'''\n",
    "1. Consider dateStr(look below) as an input, write a python program that can extract the following date formats.\n",
    "dateStr = '23-10-2002\\n23/10/2002\\n23/10/02\\n10/23/2002\\n23 Oct \n",
    "2002\\n23\n",
    "October 2002\\nOct 23, 2002\\nOctober 23, 2002\\n'\n",
    "\n",
    "Ouput: \n",
    "23-10-2002\n",
    "23/10/2002\n",
    "23/10/02\n",
    "10/23/2002\n",
    "'''\n",
    "\n",
    "dateStr = '23-10-2002\\n23/10/2002\\n23/10/02\\n10/23/2002\\n23 Oct \\\n",
    "2002\\n23 \\\n",
    "October 2002\\nOct 23, 2002\\nOctober 23, 2002\\n'\n",
    "\n",
    "pattern = r'\\d{1,2}[-/]\\d{1,2}[-/]\\d{2,4}'\n",
    "print('\\n'.join(re.findall(pattern, dateStr)))"
   ]
  },
  {
   "cell_type": "code",
   "execution_count": 40,
   "metadata": {},
   "outputs": [
    {
     "name": "stdout",
     "output_type": "stream",
     "text": [
      "Negative values: -120\n",
      "Positive values: 8926\n"
     ]
    }
   ],
   "source": [
    "'''\n",
    "2. Write a python program to calculate sum of all positive, negative integers present in a given string.\n",
    "Original string:\n",
    "-100#^sdfj8902w3ir021@swf-20\n",
    "Sum of all positive, negative integers present in the said string:\n",
    "Positive values: 9046\n",
    "Negative values: -120\n",
    "'''\n",
    "origin_str = '-100#^sdfj8902w3ir021@swf-20'\n",
    "neg_num = re.findall(r'[-]\\d+', origin_str)\n",
    "print(f'Negative values: {sum([int(i) for i in neg_num])}')\n",
    "pos_num_regex = ''.join(re.findall(r'[^-\\d+]\\d+', origin_str))\n",
    "pos_num = re.findall(r'\\d+', pos_num_regex)\n",
    "print(f'Positive values: {sum([int(i) for i in pos_num])}')"
   ]
  },
  {
   "cell_type": "code",
   "execution_count": 19,
   "metadata": {},
   "outputs": [
    {
     "data": {
      "text/plain": [
       "9046"
      ]
     },
     "execution_count": 19,
     "metadata": {},
     "output_type": "execute_result"
    }
   ],
   "source": []
  },
  {
   "cell_type": "code",
   "execution_count": null,
   "metadata": {},
   "outputs": [],
   "source": []
  }
 ],
 "metadata": {
  "kernelspec": {
   "display_name": "base",
   "language": "python",
   "name": "python3"
  },
  "language_info": {
   "codemirror_mode": {
    "name": "ipython",
    "version": 3
   },
   "file_extension": ".py",
   "mimetype": "text/x-python",
   "name": "python",
   "nbconvert_exporter": "python",
   "pygments_lexer": "ipython3",
   "version": "3.9.12"
  },
  "orig_nbformat": 4
 },
 "nbformat": 4,
 "nbformat_minor": 2
}
